{
 "cells": [
  {
   "cell_type": "markdown",
   "id": "a4d8a705",
   "metadata": {},
   "source": [
    "Ans1:\n",
    "    def is used to define a function."
   ]
  },
  {
   "cell_type": "code",
   "execution_count": 1,
   "id": "c6849502",
   "metadata": {},
   "outputs": [],
   "source": [
    "def oddNum():\n",
    "    l=[]\n",
    "    for i in range(1,26):\n",
    "        if i%2!=0:\n",
    "            l.append(i)\n",
    "    return l"
   ]
  },
  {
   "cell_type": "code",
   "execution_count": 2,
   "id": "79d2a274",
   "metadata": {},
   "outputs": [
    {
     "data": {
      "text/plain": [
       "[1, 3, 5, 7, 9, 11, 13, 15, 17, 19, 21, 23, 25]"
      ]
     },
     "execution_count": 2,
     "metadata": {},
     "output_type": "execute_result"
    }
   ],
   "source": [
    "oddNum()"
   ]
  },
  {
   "cell_type": "markdown",
   "id": "814798fe",
   "metadata": {},
   "source": [
    "Ans2:\n",
    "   \n",
    "   *args is used for taking multiple arguments.\n",
    "   allow us to pass a varying number of values during a function call.\n",
    "   \n",
    "'**kwargs' is used for creating key value pairs \n",
    "    i.e, dictionary"
   ]
  },
  {
   "cell_type": "code",
   "execution_count": 3,
   "id": "e2534493",
   "metadata": {},
   "outputs": [],
   "source": [
    "def test1(*args):\n",
    "    return args"
   ]
  },
  {
   "cell_type": "code",
   "execution_count": 4,
   "id": "6ad65bee",
   "metadata": {},
   "outputs": [
    {
     "data": {
      "text/plain": [
       "(1, 2, 3, 4, 5, 6, 77)"
      ]
     },
     "execution_count": 4,
     "metadata": {},
     "output_type": "execute_result"
    }
   ],
   "source": [
    "test1(1,2,3,4,5,6,77)"
   ]
  },
  {
   "cell_type": "code",
   "execution_count": 5,
   "id": "3df75158",
   "metadata": {},
   "outputs": [],
   "source": [
    "def test2(**kwargs):\n",
    "    return kwargs"
   ]
  },
  {
   "cell_type": "code",
   "execution_count": 6,
   "id": "3e96850d",
   "metadata": {},
   "outputs": [
    {
     "data": {
      "text/plain": [
       "{'a': 1, 'b': 2, 'c': 4, 'd': [1, 2, 3, 4, 5]}"
      ]
     },
     "execution_count": 6,
     "metadata": {},
     "output_type": "execute_result"
    }
   ],
   "source": [
    "test2(a=1,b=2,c=4,d=[1,2,3,4,5])"
   ]
  },
  {
   "cell_type": "markdown",
   "id": "351934ff",
   "metadata": {},
   "source": [
    "Ans3:\n",
    "\n",
    "An Iterator is an object that can be used to loop through collections.\n",
    "We can use for loop to iterate through an iterable object"
   ]
  },
  {
   "cell_type": "code",
   "execution_count": 9,
   "id": "b3093f86",
   "metadata": {},
   "outputs": [],
   "source": [
    "l=[2, 4, 6, 8, 10, 12, 14, 16,\n",
    "18, 20]"
   ]
  },
  {
   "cell_type": "code",
   "execution_count": 13,
   "id": "fbbeaa9f",
   "metadata": {},
   "outputs": [
    {
     "name": "stdout",
     "output_type": "stream",
     "text": [
      "2\n",
      "4\n",
      "6\n",
      "8\n",
      "10\n"
     ]
    }
   ],
   "source": [
    "x=0\n",
    "for i in l:\n",
    "   if x<5:\n",
    "        print(i)\n",
    "        x=x+1"
   ]
  },
  {
   "cell_type": "markdown",
   "id": "ebb8adb4",
   "metadata": {},
   "source": [
    "Ans4:\n",
    "\n",
    "Genetator function is a function that returns an iterator that produces a sequence of values when iterated over.\n",
    "\n",
    "Generators function are useful when we want to produce a large sequence of values, but we don't want to store all of them in memory at once.\n",
    "\n",
    "yield keyword is used to create Generator function and to store the previous value."
   ]
  },
  {
   "cell_type": "code",
   "execution_count": 14,
   "id": "f57c8ede",
   "metadata": {},
   "outputs": [],
   "source": [
    "def testfib(n):\n",
    "    a,b=0,1\n",
    "    for i in range(n):\n",
    "        yield a\n",
    "        a,b=b,a+b"
   ]
  },
  {
   "cell_type": "code",
   "execution_count": 15,
   "id": "b4986ca3",
   "metadata": {},
   "outputs": [
    {
     "name": "stdout",
     "output_type": "stream",
     "text": [
      "0 1 1 2 3 5 8 13 21 34 "
     ]
    }
   ],
   "source": [
    "for i in testfib(10):\n",
    "    print(i,end=\" \")"
   ]
  },
  {
   "cell_type": "markdown",
   "id": "a0e0a067",
   "metadata": {},
   "source": [
    "Ans5:\n",
    "    "
   ]
  },
  {
   "cell_type": "code",
   "execution_count": 31,
   "id": "07796f4d",
   "metadata": {},
   "outputs": [],
   "source": [
    "def primenum():\n",
    "    for num in range(2,1001):\n",
    "        prime = True\n",
    "        for i in range(2,num):\n",
    "            if (num%i==0):\n",
    "                prime = False\n",
    "                break\n",
    "        if prime:\n",
    "            yield num\n",
    "            \n"
   ]
  },
  {
   "cell_type": "code",
   "execution_count": 35,
   "id": "20023b10",
   "metadata": {},
   "outputs": [
    {
     "name": "stdout",
     "output_type": "stream",
     "text": [
      "2\n",
      "3\n",
      "5\n",
      "7\n",
      "11\n",
      "13\n",
      "17\n",
      "19\n",
      "23\n",
      "29\n",
      "31\n",
      "37\n",
      "41\n",
      "43\n",
      "47\n",
      "53\n",
      "59\n",
      "61\n",
      "67\n",
      "71\n"
     ]
    }
   ],
   "source": [
    "j=0\n",
    "for i in primenum():\n",
    "    if j<20:\n",
    "        print(i)\n",
    "        j=j+1;"
   ]
  }
 ],
 "metadata": {
  "kernelspec": {
   "display_name": "Python 3 (ipykernel)",
   "language": "python",
   "name": "python3"
  },
  "language_info": {
   "codemirror_mode": {
    "name": "ipython",
    "version": 3
   },
   "file_extension": ".py",
   "mimetype": "text/x-python",
   "name": "python",
   "nbconvert_exporter": "python",
   "pygments_lexer": "ipython3",
   "version": "3.9.13"
  }
 },
 "nbformat": 4,
 "nbformat_minor": 5
}
